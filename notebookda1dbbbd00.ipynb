{
 "cells": [
  {
   "cell_type": "markdown",
   "id": "french-radiation",
   "metadata": {
    "papermill": {
     "duration": 0.019332,
     "end_time": "2021-04-19T14:27:55.510228",
     "exception": false,
     "start_time": "2021-04-19T14:27:55.490896",
     "status": "completed"
    },
    "tags": []
   },
   "source": [
    "# Projet MI203: Classification multimodale\n",
    "<font size=\"3\">réalisé par: **Mouin BEN AMMAR & Yoldoz TABEI**</font><br>\n",
    "<font size=\"3\">encadré par: **Mr. Stéphane Herbin**</font>"
   ]
  },
  {
   "cell_type": "markdown",
   "id": "focused-reducing",
   "metadata": {
    "papermill": {
     "duration": 0.017561,
     "end_time": "2021-04-19T14:27:55.545862",
     "exception": false,
     "start_time": "2021-04-19T14:27:55.528301",
     "status": "completed"
    },
    "tags": []
   },
   "source": [
    "## Introduction\n",
    "<font size=\"3\">Afin de pouvoir classifier ces 9 environnements: Fôret, cité, plage, restaurant, salle de cours, rivière,jungle, supermarché et match de football, des données images et audio nous ont été fournies afin de les analyser et de classifier ces environnements à partir d'une approche multimodale.<br>\n",
    "Dans ce projet, nous allons établir une démarche pour trouver les bonnes caractéristiques et nous combinerons les ressources afin de voir si le multimodal apporte à la classification.</font>"
   ]
  },
  {
   "cell_type": "markdown",
   "id": "apart-ideal",
   "metadata": {
    "papermill": {
     "duration": 0.017603,
     "end_time": "2021-04-19T14:27:55.581469",
     "exception": false,
     "start_time": "2021-04-19T14:27:55.563866",
     "status": "completed"
    },
    "tags": []
   },
   "source": [
    "## Démarche\n",
    "<font size=\"3\">Tout d'abord, nous avons décidé de travailler sur les deux types de data séparemment. Pour les images, nous avons implémenté un réseau CNN, alors que pour l'audio nous avons choisi d'adopter un SVM.<br>\n",
    "Après avoir fait le traitement et toutes les améliorations possibles sur les images, nous avons eu comme meilleure performance 99.3%. Quant à l'audio, le résultat était 94.6%. Pour ces deux types de data, nous avons déterminé tous les paramètres des modèles et de l'architecture CNN en utilisant des validation croisées .<br>\n",
    "Ensuite, nous avons essayé de créer une classification hybrides des deux modèles.<br>\n",
    "D'abord, on fait passer les images à travers notre réseau CNN pour extraire les prédictions sous forme d'un \"One hot vector\" de dimension 9. Ensuite, on procède par concaténer ces prédictions au vecteur représentant l'audio et on passe ce vecteur dans le SVM pour faire la séparation finale des données. En fait en ajoutant ce vecteur à l'audio, c'est comme ci on a créé un espace creux \"Sparce space\" de dimension 9 qui aide le SVM à mieux classifier les données, qui ont été déjà classifiées à 99,3% en utilisant le CNN, ce qui s'est avéré vrai, comme le résultat final obtenu est 99,768%.<br>"
   ]
  },
  {
   "cell_type": "markdown",
   "id": "fewer-nickel",
   "metadata": {
    "papermill": {
     "duration": 0.01792,
     "end_time": "2021-04-19T14:27:55.618451",
     "exception": false,
     "start_time": "2021-04-19T14:27:55.600531",
     "status": "completed"
    },
    "tags": []
   },
   "source": [
    "## 1. Importation des données"
   ]
  },
  {
   "cell_type": "code",
   "execution_count": 1,
   "id": "independent-religious",
   "metadata": {
    "execution": {
     "iopub.execute_input": "2021-04-19T14:27:55.658070Z",
     "iopub.status.busy": "2021-04-19T14:27:55.657056Z",
     "iopub.status.idle": "2021-04-19T14:27:56.845269Z",
     "shell.execute_reply": "2021-04-19T14:27:56.844318Z"
    },
    "papermill": {
     "duration": 1.209202,
     "end_time": "2021-04-19T14:27:56.845426",
     "exception": false,
     "start_time": "2021-04-19T14:27:55.636224",
     "status": "completed"
    },
    "tags": []
   },
   "outputs": [],
   "source": [
    "import numpy as np # linear algebra\n",
    "import pandas as pd # data processing, CSV file I/O (e.g. pd.read_csv)\n",
    "import os\n",
    "# Input data files are available in the read-only \"../input/\" directory\n",
    "# For example, running this (by clicking run or pressing Shift+Enter) will list all files under the input directory\n",
    "\n",
    "datadir = '/kaggle/input/multimodal-classification-2021-mi203/data'\n",
    "#datadir = 'data'\n",
    "\n",
    "# You can write up to 20GB to the current directory (/kaggle/working/) that gets preserved as output when you create a version using \"Save & Run All\" \n",
    "# You can also write temporary files to /kaggle/temp/, but they won't be saved outside of the current session\n",
    "\n",
    "data_df = pd.read_csv(os.path.join(datadir,'data_train.csv'), delimiter=',', nrows = None)\n",
    "data = np.array(data_df)\n",
    "\n",
    "labels = data[:,-1].astype('int32')\n",
    "\n",
    "audio = data[:, 1:-1].astype('float32')\n",
    "\n",
    "img_list = data_df['IMAGE']\n",
    "\n",
    "datadir_test = '/kaggle/input/multimodal-classification-2021-mi203/data'\n",
    "data_df = pd.read_csv(os.path.join(datadir_test,'data_test_novt.csv'), delimiter=',', nrows = None)\n",
    "data_test = np.array(data_df)\n",
    "labels_test = data[:,-1].astype('int32')\n",
    "\n",
    "audio_test = data[:, 1:-1].astype('float32')\n",
    "\n",
    "img_list_test = data_df['IMAGE']"
   ]
  },
  {
   "cell_type": "markdown",
   "id": "nonprofit-harrison",
   "metadata": {
    "papermill": {
     "duration": 0.018183,
     "end_time": "2021-04-19T14:27:56.882232",
     "exception": false,
     "start_time": "2021-04-19T14:27:56.864049",
     "status": "completed"
    },
    "tags": []
   },
   "source": [
    "## 2. Activation du GPU \n",
    "<font size=\"3\">Afin de minimiser le temps de l'exécution, on utilise le GPU qui permet de diviser ce temps par 12.5 par rapport à celui lors de l'activation du CPU.</font>"
   ]
  },
  {
   "cell_type": "code",
   "execution_count": 2,
   "id": "thermal-rochester",
   "metadata": {
    "execution": {
     "iopub.execute_input": "2021-04-19T14:27:56.924384Z",
     "iopub.status.busy": "2021-04-19T14:27:56.923791Z",
     "iopub.status.idle": "2021-04-19T14:27:57.890299Z",
     "shell.execute_reply": "2021-04-19T14:27:57.889625Z"
    },
    "papermill": {
     "duration": 0.989747,
     "end_time": "2021-04-19T14:27:57.890432",
     "exception": false,
     "start_time": "2021-04-19T14:27:56.900685",
     "status": "completed"
    },
    "tags": []
   },
   "outputs": [
    {
     "name": "stdout",
     "output_type": "stream",
     "text": [
      "Using device: cpu\n",
      "\n"
     ]
    }
   ],
   "source": [
    "import torch\n",
    "import random\n",
    "\n",
    "#initializing random seeds\n",
    "torch.manual_seed(0)\n",
    "torch.cuda.manual_seed(0)\n",
    "random.seed(0)\n",
    "np.random.seed(0)\n",
    "\n",
    "# setting device on GPU if available, else CPU\n",
    "device = torch.device('cuda' if torch.cuda.is_available() else 'cpu')\n",
    "print('Using device:', device)\n",
    "print()"
   ]
  },
  {
   "cell_type": "markdown",
   "id": "innovative-retro",
   "metadata": {
    "papermill": {
     "duration": 0.018595,
     "end_time": "2021-04-19T14:27:57.928082",
     "exception": false,
     "start_time": "2021-04-19T14:27:57.909487",
     "status": "completed"
    },
    "tags": []
   },
   "source": [
    "## 3. Visualisation d'une image\n",
    "<font size=\"3\">Nous allons ici afficher une image à partir des données fournies.</font>"
   ]
  },
  {
   "cell_type": "code",
   "execution_count": 3,
   "id": "beneficial-turtle",
   "metadata": {
    "execution": {
     "iopub.execute_input": "2021-04-19T14:27:57.971284Z",
     "iopub.status.busy": "2021-04-19T14:27:57.970726Z",
     "iopub.status.idle": "2021-04-19T14:27:58.241574Z",
     "shell.execute_reply": "2021-04-19T14:27:58.242028Z"
    },
    "papermill": {
     "duration": 0.295274,
     "end_time": "2021-04-19T14:27:58.242184",
     "exception": false,
     "start_time": "2021-04-19T14:27:57.946910",
     "status": "completed"
    },
    "tags": []
   },
   "outputs": [
    {
     "name": "stdout",
     "output_type": "stream",
     "text": [
      "CLASSROOM\n"
     ]
    },
    {
     "data": {
      "image/png": "[encoded data removed]",
      "text/plain": [
       "<Figure size 432x288 with 1 Axes>"
      ]
     },
     "metadata": {
      "needs_background": "light"
     },
     "output_type": "display_data"
    }
   ],
   "source": [
    "import matplotlib.pyplot as plt\n",
    "from PIL import Image\n",
    "\n",
    "# image index\n",
    "idx = 75\n",
    "\n",
    "class_list = ['FOREST', 'CITY', 'BEACH', 'CLASSROOM', 'RIVER', 'JUNGLE', 'RESTAURANT', 'GROCERY-STORE', 'FOOTBALL-MATCH']\n",
    "img = Image.open(os.path.join(datadir, img_list.iloc[idx]))\n",
    "plt.imshow(np.asarray(img))\n",
    "print(class_list[labels[idx]])\n"
   ]
  },
  {
   "cell_type": "markdown",
   "id": "understood-apartment",
   "metadata": {
    "papermill": {
     "duration": 0.02186,
     "end_time": "2021-04-19T14:27:58.285969",
     "exception": false,
     "start_time": "2021-04-19T14:27:58.264109",
     "status": "completed"
    },
    "tags": []
   },
   "source": [
    "## 4. Dataloader\n",
    "\n",
    "<font size=\"3\">Etant donné que notre mémoire risque de ne pas avoir assez d'espace, le package Pytorch permet d'envoyer les données directement vers le modèle d'apprentissage profond: Le GPU. Ceci rend le traitement des données dans la phase d'entraînement plus efficace. On a également fait de la \"data augmentation\" en utilisant les transformations d'image(Resize, RandomCrop, ColorJitter, RandomRotation, RandomHorizontalFlip)</font>\n",
    "\n"
   ]
  },
  {
   "cell_type": "code",
   "execution_count": 4,
   "id": "impressed-blond",
   "metadata": {
    "execution": {
     "iopub.execute_input": "2021-04-19T14:27:58.338735Z",
     "iopub.status.busy": "2021-04-19T14:27:58.338152Z",
     "iopub.status.idle": "2021-04-19T14:27:58.493932Z",
     "shell.execute_reply": "2021-04-19T14:27:58.494411Z"
    },
    "papermill": {
     "duration": 0.187159,
     "end_time": "2021-04-19T14:27:58.494578",
     "exception": false,
     "start_time": "2021-04-19T14:27:58.307419",
     "status": "completed"
    },
    "tags": []
   },
   "outputs": [],
   "source": [
    "\n",
    "from PIL import Image\n",
    "from torch.utils.data import Dataset, DataLoader\n",
    "class ImageDataset(Dataset):\n",
    "    def __init__(self, root_dir, files, labels=None, img_transform=None):\n",
    "        self.root_dir = root_dir\n",
    "        self.files = files\n",
    "     \n",
    "        self.labels = labels\n",
    "        self.img_transform = img_transform\n",
    "       \n",
    "\n",
    "    def __len__(self):\n",
    "        return len(self.files)\n",
    "\n",
    "    def __getitem__(self, idx):\n",
    "        img = Image.open(os.path.join(self.root_dir, self.files.iloc[idx]))\n",
    "       \n",
    "        if self.img_transform is not None:\n",
    "            img = self.img_transform(img)\n",
    "       \n",
    "        if self.labels is not None:\n",
    "            return img,  int(self.labels[idx])\n",
    "        else:\n",
    "            return img\n",
    "\n",
    "import torchvision\n",
    "\n",
    "img_list_transform = torchvision.transforms.Compose([\n",
    "    torchvision.transforms.Resize((224,224)),\n",
    "    torchvision.transforms.ToTensor(),\n",
    "    torchvision.transforms.Normalize([0.485, 0.456, 0.406], [0.229, 0.224, 0.225])\n",
    "])\n",
    "\n",
    "\n",
    "img_list_transform = torchvision.transforms.Compose([\n",
    "   \n",
    "    torchvision.transforms.Resize((224,224)),\n",
    "    torchvision.transforms.RandomCrop((222,222)),\n",
    "    torchvision.transforms.ColorJitter(brightness=0.2),\n",
    "    torchvision.transforms.RandomRotation(degrees=10),\n",
    "    torchvision.transforms.RandomHorizontalFlip(0.5),\n",
    "   \n",
    "    \n",
    "    torchvision.transforms.ToTensor(),\n",
    "    \n",
    "    torchvision.transforms.Normalize([0.485, 0.456, 0.406], [0.229, 0.224, 0.225])\n",
    "])\n",
    "\n",
    "img_dataset = ImageDataset(root_dir=datadir,\n",
    "                               files=img_list,\n",
    "                               \n",
    "                                 labels=labels,\n",
    "                              img_transform=img_list_transform)"
   ]
  },
  {
   "cell_type": "markdown",
   "id": "productive-combat",
   "metadata": {
    "papermill": {
     "duration": 0.021328,
     "end_time": "2021-04-19T14:27:58.537844",
     "exception": false,
     "start_time": "2021-04-19T14:27:58.516516",
     "status": "completed"
    },
    "tags": []
   },
   "source": [
    "## 5. Training validation split\n",
    "<font size=\"3\">On définit la taille du \"batch\" à 112. C'est le nombre d'échantillons qui seront propagés à travers le réseau. Après avoir identifié la meilleure architecture et les hyperparamètres, on a mis le code qui divise notre Dataset en validation et training en commentaire vue le nombre limité de training data. </font>"
   ]
  },
  {
   "cell_type": "code",
   "execution_count": 5,
   "id": "adjusted-cylinder",
   "metadata": {
    "execution": {
     "iopub.execute_input": "2021-04-19T14:27:58.583845Z",
     "iopub.status.busy": "2021-04-19T14:27:58.583306Z",
     "iopub.status.idle": "2021-04-19T14:27:58.588040Z",
     "shell.execute_reply": "2021-04-19T14:27:58.588725Z"
    },
    "papermill": {
     "duration": 0.029332,
     "end_time": "2021-04-19T14:27:58.588880",
     "exception": false,
     "start_time": "2021-04-19T14:27:58.559548",
     "status": "completed"
    },
    "tags": []
   },
   "outputs": [],
   "source": [
    "#from torch.utils.data.sampler import SubsetRandomSampler\n",
    "batch_size = 112\n",
    "#validation_split = .1\n",
    "shuffle_dataset = True\n",
    "random_seed= 42\n",
    "\n",
    "# Creating data indices for training and validation splits:\n",
    "#dataset_size = len(img_dataset)\n",
    "#indices = list(range(dataset_size))\n",
    "#split = int(np.floor(validation_split * dataset_size))\n",
    "#if shuffle_dataset :\n",
    "   # np.random.seed(random_seed)\n",
    "   # np.random.shuffle(indices)\n",
    "#train_indices, val_indices = indices[split:], indices[:split]\n",
    "\n",
    "# Creating PT data samplers and loaders:\n",
    "#train_sampler = SubsetRandomSampler(train_indices)\n",
    "#valid_sampler = SubsetRandomSampler(val_indices)\n",
    "\n",
    "train_loader = torch.utils.data.DataLoader(img_dataset, batch_size=batch_size, \n",
    "                                           num_workers=2)\n",
    "#validation_loader = torch.utils.data.DataLoader(img_dataset, batch_size=batch_size,\n",
    "                                               # sampler=valid_sampler,num_workers=2)\n",
    "\n",
    "\n",
    "img_dataset_test = ImageDataset(root_dir=datadir,\n",
    "                               files=img_list_test,\n",
    "                            \n",
    "                                \n",
    "                              img_transform=img_list_transform,\n",
    "                                 )\n",
    "test_loader = torch.utils.data.DataLoader(img_dataset_test, batch_size=batch_size, \n",
    "                                           num_workers=2)"
   ]
  },
  {
   "cell_type": "markdown",
   "id": "whole-christianity",
   "metadata": {
    "papermill": {
     "duration": 0.021377,
     "end_time": "2021-04-19T14:27:58.631946",
     "exception": false,
     "start_time": "2021-04-19T14:27:58.610569",
     "status": "completed"
    },
    "tags": []
   },
   "source": [
    "## 6. Charger un réseau pré-appris CNN\n",
    "\n",
    "<font size=\"3\">Tout d'abord, nous avons importé le réseau resnext50_32x4d. Ensuite, nous avons essayé plusieurs architectures, mais finalement nous avons décidé de supprimer la dernière couche et l'avons remplacé par notre propre architecture vu que cette dernière a abouti à une meilleure performance.</font>"
   ]
  },
  {
   "cell_type": "code",
   "execution_count": 6,
   "id": "functioning-tampa",
   "metadata": {
    "execution": {
     "iopub.execute_input": "2021-04-19T14:27:58.678031Z",
     "iopub.status.busy": "2021-04-19T14:27:58.677453Z",
     "iopub.status.idle": "2021-04-19T14:28:09.989767Z",
     "shell.execute_reply": "2021-04-19T14:28:09.990573Z"
    },
    "papermill": {
     "duration": 11.337124,
     "end_time": "2021-04-19T14:28:09.990886",
     "exception": false,
     "start_time": "2021-04-19T14:27:58.653762",
     "status": "completed"
    },
    "tags": []
   },
   "outputs": [
    {
     "name": "stderr",
     "output_type": "stream",
     "text": [
      "Downloading: \"https://download.pytorch.org/models/resnext50_32x4d-7cdf4587.pth\" to /root/.cache/torch/hub/checkpoints/resnext50_32x4d-7cdf4587.pth\n"
     ]
    },
    {
     "data": {
      "application/vnd.jupyter.widget-view+json": {
       "model_id": "8d34b87e0b9c46849a23750fc82af176",
       "version_major": 2,
       "version_minor": 0
      },
      "text/plain": [
       "  0%|          | 0.00/95.8M [00:00<?, ?B/s]"
      ]
     },
     "metadata": {},
     "output_type": "display_data"
    },
    {
     "ename": "AssertionError",
     "evalue": "Torch not compiled with CUDA enabled",
     "output_type": "error",
     "traceback": [
      "\u001b[0;31m---------------------------------------------------------------------------\u001b[0m",
      "\u001b[0;31mAssertionError\u001b[0m                            Traceback (most recent call last)",
      "\u001b[0;32m<ipython-input-6-0469056c1353>\u001b[0m in \u001b[0;36m<module>\u001b[0;34m\u001b[0m\n\u001b[1;32m     51\u001b[0m \u001b[0;34m\u001b[0m\u001b[0m\n\u001b[1;32m     52\u001b[0m \u001b[0;31m#print(mymodel)\u001b[0m\u001b[0;34m\u001b[0m\u001b[0;34m\u001b[0m\u001b[0;34m\u001b[0m\u001b[0m\n\u001b[0;32m---> 53\u001b[0;31m \u001b[0mmodel\u001b[0m\u001b[0;34m.\u001b[0m\u001b[0mto\u001b[0m\u001b[0;34m(\u001b[0m\u001b[0;34m'cuda:0'\u001b[0m\u001b[0;34m)\u001b[0m\u001b[0;34m\u001b[0m\u001b[0;34m\u001b[0m\u001b[0m\n\u001b[0m\u001b[1;32m     54\u001b[0m \u001b[0mprint\u001b[0m\u001b[0;34m(\u001b[0m\u001b[0;34m\"      \"\u001b[0m\u001b[0;34m)\u001b[0m\u001b[0;34m\u001b[0m\u001b[0;34m\u001b[0m\u001b[0m\n",
      "\u001b[0;32m/opt/conda/lib/python3.7/site-packages/torch/nn/modules/module.py\u001b[0m in \u001b[0;36mto\u001b[0;34m(self, *args, **kwargs)\u001b[0m\n\u001b[1;32m    610\u001b[0m             \u001b[0;32mreturn\u001b[0m \u001b[0mt\u001b[0m\u001b[0;34m.\u001b[0m\u001b[0mto\u001b[0m\u001b[0;34m(\u001b[0m\u001b[0mdevice\u001b[0m\u001b[0;34m,\u001b[0m \u001b[0mdtype\u001b[0m \u001b[0;32mif\u001b[0m \u001b[0mt\u001b[0m\u001b[0;34m.\u001b[0m\u001b[0mis_floating_point\u001b[0m\u001b[0;34m(\u001b[0m\u001b[0;34m)\u001b[0m \u001b[0;32melse\u001b[0m \u001b[0;32mNone\u001b[0m\u001b[0;34m,\u001b[0m \u001b[0mnon_blocking\u001b[0m\u001b[0;34m)\u001b[0m\u001b[0;34m\u001b[0m\u001b[0;34m\u001b[0m\u001b[0m\n\u001b[1;32m    611\u001b[0m \u001b[0;34m\u001b[0m\u001b[0m\n\u001b[0;32m--> 612\u001b[0;31m         \u001b[0;32mreturn\u001b[0m \u001b[0mself\u001b[0m\u001b[0;34m.\u001b[0m\u001b[0m_apply\u001b[0m\u001b[0;34m(\u001b[0m\u001b[0mconvert\u001b[0m\u001b[0;34m)\u001b[0m\u001b[0;34m\u001b[0m\u001b[0;34m\u001b[0m\u001b[0m\n\u001b[0m\u001b[1;32m    613\u001b[0m \u001b[0;34m\u001b[0m\u001b[0m\n\u001b[1;32m    614\u001b[0m     def register_backward_hook(\n",
      "\u001b[0;32m/opt/conda/lib/python3.7/site-packages/torch/nn/modules/module.py\u001b[0m in \u001b[0;36m_apply\u001b[0;34m(self, fn)\u001b[0m\n\u001b[1;32m    357\u001b[0m     \u001b[0;32mdef\u001b[0m \u001b[0m_apply\u001b[0m\u001b[0;34m(\u001b[0m\u001b[0mself\u001b[0m\u001b[0;34m,\u001b[0m \u001b[0mfn\u001b[0m\u001b[0;34m)\u001b[0m\u001b[0;34m:\u001b[0m\u001b[0;34m\u001b[0m\u001b[0;34m\u001b[0m\u001b[0m\n\u001b[1;32m    358\u001b[0m         \u001b[0;32mfor\u001b[0m \u001b[0mmodule\u001b[0m \u001b[0;32min\u001b[0m \u001b[0mself\u001b[0m\u001b[0;34m.\u001b[0m\u001b[0mchildren\u001b[0m\u001b[0;34m(\u001b[0m\u001b[0;34m)\u001b[0m\u001b[0;34m:\u001b[0m\u001b[0;34m\u001b[0m\u001b[0;34m\u001b[0m\u001b[0m\n\u001b[0;32m--> 359\u001b[0;31m             \u001b[0mmodule\u001b[0m\u001b[0;34m.\u001b[0m\u001b[0m_apply\u001b[0m\u001b[0;34m(\u001b[0m\u001b[0mfn\u001b[0m\u001b[0;34m)\u001b[0m\u001b[0;34m\u001b[0m\u001b[0;34m\u001b[0m\u001b[0m\n\u001b[0m\u001b[1;32m    360\u001b[0m \u001b[0;34m\u001b[0m\u001b[0m\n\u001b[1;32m    361\u001b[0m         \u001b[0;32mdef\u001b[0m \u001b[0mcompute_should_use_set_data\u001b[0m\u001b[0;34m(\u001b[0m\u001b[0mtensor\u001b[0m\u001b[0;34m,\u001b[0m \u001b[0mtensor_applied\u001b[0m\u001b[0;34m)\u001b[0m\u001b[0;34m:\u001b[0m\u001b[0;34m\u001b[0m\u001b[0;34m\u001b[0m\u001b[0m\n",
      "\u001b[0;32m/opt/conda/lib/python3.7/site-packages/torch/nn/modules/module.py\u001b[0m in \u001b[0;36m_apply\u001b[0;34m(self, fn)\u001b[0m\n\u001b[1;32m    357\u001b[0m     \u001b[0;32mdef\u001b[0m \u001b[0m_apply\u001b[0m\u001b[0;34m(\u001b[0m\u001b[0mself\u001b[0m\u001b[0;34m,\u001b[0m \u001b[0mfn\u001b[0m\u001b[0;34m)\u001b[0m\u001b[0;34m:\u001b[0m\u001b[0;34m\u001b[0m\u001b[0;34m\u001b[0m\u001b[0m\n\u001b[1;32m    358\u001b[0m         \u001b[0;32mfor\u001b[0m \u001b[0mmodule\u001b[0m \u001b[0;32min\u001b[0m \u001b[0mself\u001b[0m\u001b[0;34m.\u001b[0m\u001b[0mchildren\u001b[0m\u001b[0;34m(\u001b[0m\u001b[0;34m)\u001b[0m\u001b[0;34m:\u001b[0m\u001b[0;34m\u001b[0m\u001b[0;34m\u001b[0m\u001b[0m\n\u001b[0;32m--> 359\u001b[0;31m             \u001b[0mmodule\u001b[0m\u001b[0;34m.\u001b[0m\u001b[0m_apply\u001b[0m\u001b[0;34m(\u001b[0m\u001b[0mfn\u001b[0m\u001b[0;34m)\u001b[0m\u001b[0;34m\u001b[0m\u001b[0;34m\u001b[0m\u001b[0m\n\u001b[0m\u001b[1;32m    360\u001b[0m \u001b[0;34m\u001b[0m\u001b[0m\n\u001b[1;32m    361\u001b[0m         \u001b[0;32mdef\u001b[0m \u001b[0mcompute_should_use_set_data\u001b[0m\u001b[0;34m(\u001b[0m\u001b[0mtensor\u001b[0m\u001b[0;34m,\u001b[0m \u001b[0mtensor_applied\u001b[0m\u001b[0;34m)\u001b[0m\u001b[0;34m:\u001b[0m\u001b[0;34m\u001b[0m\u001b[0;34m\u001b[0m\u001b[0m\n",
      "\u001b[0;32m/opt/conda/lib/python3.7/site-packages/torch/nn/modules/module.py\u001b[0m in \u001b[0;36m_apply\u001b[0;34m(self, fn)\u001b[0m\n\u001b[1;32m    379\u001b[0m                 \u001b[0;31m# `with torch.no_grad():`\u001b[0m\u001b[0;34m\u001b[0m\u001b[0;34m\u001b[0m\u001b[0;34m\u001b[0m\u001b[0m\n\u001b[1;32m    380\u001b[0m                 \u001b[0;32mwith\u001b[0m \u001b[0mtorch\u001b[0m\u001b[0;34m.\u001b[0m\u001b[0mno_grad\u001b[0m\u001b[0;34m(\u001b[0m\u001b[0;34m)\u001b[0m\u001b[0;34m:\u001b[0m\u001b[0;34m\u001b[0m\u001b[0;34m\u001b[0m\u001b[0m\n\u001b[0;32m--> 381\u001b[0;31m                     \u001b[0mparam_applied\u001b[0m \u001b[0;34m=\u001b[0m \u001b[0mfn\u001b[0m\u001b[0;34m(\u001b[0m\u001b[0mparam\u001b[0m\u001b[0;34m)\u001b[0m\u001b[0;34m\u001b[0m\u001b[0;34m\u001b[0m\u001b[0m\n\u001b[0m\u001b[1;32m    382\u001b[0m                 \u001b[0mshould_use_set_data\u001b[0m \u001b[0;34m=\u001b[0m \u001b[0mcompute_should_use_set_data\u001b[0m\u001b[0;34m(\u001b[0m\u001b[0mparam\u001b[0m\u001b[0;34m,\u001b[0m \u001b[0mparam_applied\u001b[0m\u001b[0;34m)\u001b[0m\u001b[0;34m\u001b[0m\u001b[0;34m\u001b[0m\u001b[0m\n\u001b[1;32m    383\u001b[0m                 \u001b[0;32mif\u001b[0m \u001b[0mshould_use_set_data\u001b[0m\u001b[0;34m:\u001b[0m\u001b[0;34m\u001b[0m\u001b[0;34m\u001b[0m\u001b[0m\n",
      "\u001b[0;32m/opt/conda/lib/python3.7/site-packages/torch/nn/modules/module.py\u001b[0m in \u001b[0;36mconvert\u001b[0;34m(t)\u001b[0m\n\u001b[1;32m    608\u001b[0m             \u001b[0;32mif\u001b[0m \u001b[0mconvert_to_format\u001b[0m \u001b[0;32mis\u001b[0m \u001b[0;32mnot\u001b[0m \u001b[0;32mNone\u001b[0m \u001b[0;32mand\u001b[0m \u001b[0mt\u001b[0m\u001b[0;34m.\u001b[0m\u001b[0mdim\u001b[0m\u001b[0;34m(\u001b[0m\u001b[0;34m)\u001b[0m \u001b[0;34m==\u001b[0m \u001b[0;36m4\u001b[0m\u001b[0;34m:\u001b[0m\u001b[0;34m\u001b[0m\u001b[0;34m\u001b[0m\u001b[0m\n\u001b[1;32m    609\u001b[0m                 \u001b[0;32mreturn\u001b[0m \u001b[0mt\u001b[0m\u001b[0;34m.\u001b[0m\u001b[0mto\u001b[0m\u001b[0;34m(\u001b[0m\u001b[0mdevice\u001b[0m\u001b[0;34m,\u001b[0m \u001b[0mdtype\u001b[0m \u001b[0;32mif\u001b[0m \u001b[0mt\u001b[0m\u001b[0;34m.\u001b[0m\u001b[0mis_floating_point\u001b[0m\u001b[0;34m(\u001b[0m\u001b[0;34m)\u001b[0m \u001b[0;32melse\u001b[0m \u001b[0;32mNone\u001b[0m\u001b[0;34m,\u001b[0m \u001b[0mnon_blocking\u001b[0m\u001b[0;34m,\u001b[0m \u001b[0mmemory_format\u001b[0m\u001b[0;34m=\u001b[0m\u001b[0mconvert_to_format\u001b[0m\u001b[0;34m)\u001b[0m\u001b[0;34m\u001b[0m\u001b[0;34m\u001b[0m\u001b[0m\n\u001b[0;32m--> 610\u001b[0;31m             \u001b[0;32mreturn\u001b[0m \u001b[0mt\u001b[0m\u001b[0;34m.\u001b[0m\u001b[0mto\u001b[0m\u001b[0;34m(\u001b[0m\u001b[0mdevice\u001b[0m\u001b[0;34m,\u001b[0m \u001b[0mdtype\u001b[0m \u001b[0;32mif\u001b[0m \u001b[0mt\u001b[0m\u001b[0;34m.\u001b[0m\u001b[0mis_floating_point\u001b[0m\u001b[0;34m(\u001b[0m\u001b[0;34m)\u001b[0m \u001b[0;32melse\u001b[0m \u001b[0;32mNone\u001b[0m\u001b[0;34m,\u001b[0m \u001b[0mnon_blocking\u001b[0m\u001b[0;34m)\u001b[0m\u001b[0;34m\u001b[0m\u001b[0;34m\u001b[0m\u001b[0m\n\u001b[0m\u001b[1;32m    611\u001b[0m \u001b[0;34m\u001b[0m\u001b[0m\n\u001b[1;32m    612\u001b[0m         \u001b[0;32mreturn\u001b[0m \u001b[0mself\u001b[0m\u001b[0;34m.\u001b[0m\u001b[0m_apply\u001b[0m\u001b[0;34m(\u001b[0m\u001b[0mconvert\u001b[0m\u001b[0;34m)\u001b[0m\u001b[0;34m\u001b[0m\u001b[0;34m\u001b[0m\u001b[0m\n",
      "\u001b[0;32m/opt/conda/lib/python3.7/site-packages/torch/cuda/__init__.py\u001b[0m in \u001b[0;36m_lazy_init\u001b[0;34m()\u001b[0m\n\u001b[1;32m    164\u001b[0m                 \"Cannot re-initialize CUDA in forked subprocess. \" + msg)\n\u001b[1;32m    165\u001b[0m         \u001b[0;32mif\u001b[0m \u001b[0;32mnot\u001b[0m \u001b[0mhasattr\u001b[0m\u001b[0;34m(\u001b[0m\u001b[0mtorch\u001b[0m\u001b[0;34m.\u001b[0m\u001b[0m_C\u001b[0m\u001b[0;34m,\u001b[0m \u001b[0;34m'_cuda_getDeviceCount'\u001b[0m\u001b[0;34m)\u001b[0m\u001b[0;34m:\u001b[0m\u001b[0;34m\u001b[0m\u001b[0;34m\u001b[0m\u001b[0m\n\u001b[0;32m--> 166\u001b[0;31m             \u001b[0;32mraise\u001b[0m \u001b[0mAssertionError\u001b[0m\u001b[0;34m(\u001b[0m\u001b[0;34m\"Torch not compiled with CUDA enabled\"\u001b[0m\u001b[0;34m)\u001b[0m\u001b[0;34m\u001b[0m\u001b[0;34m\u001b[0m\u001b[0m\n\u001b[0m\u001b[1;32m    167\u001b[0m         \u001b[0;32mif\u001b[0m \u001b[0m_cudart\u001b[0m \u001b[0;32mis\u001b[0m \u001b[0;32mNone\u001b[0m\u001b[0;34m:\u001b[0m\u001b[0;34m\u001b[0m\u001b[0;34m\u001b[0m\u001b[0m\n\u001b[1;32m    168\u001b[0m             raise AssertionError(\n",
      "\u001b[0;31mAssertionError\u001b[0m: Torch not compiled with CUDA enabled"
     ]
    }
   ],
   "source": [
    "import torchvision.models\n",
    "import torch\n",
    "import torch.nn as nn\n",
    "import torch.nn.functional as F\n",
    "\n",
    "resnext = torchvision.models.resnext50_32x4d(pretrained=True, progress=True)\n",
    "#identify number of features in the last layer in order to extend the model\n",
    "num_ftrs = resnext.fc.in_features\n",
    "\n",
    "\n",
    "if device.type == 'cuda':\n",
    "    resnext = resnext.cuda()\n",
    "\n",
    "model = resnext\n",
    "\n",
    "class MyModel(nn.Module):\n",
    "            def __init__(self):\n",
    "                super(MyModel, self).__init__()\n",
    "                self.features = nn.Sequential(\n",
    "                    # excludes the last layer\n",
    "                    *list((model.children()))[:-1]\n",
    "                    \n",
    "                )\n",
    "                #dont train on the original model\n",
    "                for p in self.features :\n",
    "                         p.requires_grad = False\n",
    "                 #layers chosen to add       \n",
    "                self.linear1 = nn.Linear(num_ftrs,32 )\n",
    "               \n",
    "                self.linear2 = nn.Linear(32,256 )\n",
    "                \n",
    "                self.linear3 = nn.Linear(256,32 )\n",
    "               \n",
    "                self.linear4 = nn.Linear(32,9 )\n",
    "                \n",
    "               \n",
    "                \n",
    "            def forward(self, x):\n",
    "                x = self.features(x)\n",
    "                x = x.view(-1,num_ftrs)\n",
    "                x=F.leaky_relu(self.linear1(x))\n",
    "               \n",
    "                x=F.leaky_relu(self.linear2(x))\n",
    "                x=F.leaky_relu(self.linear3(x))\n",
    "                x=F.leaky_relu(self.linear4(x))\n",
    "                \n",
    "                return x\n",
    "\n",
    "model = MyModel()\n",
    "\n",
    "\n",
    "#print(mymodel)\n",
    "model.to('cuda:0')\n",
    "print(\"      \")"
   ]
  },
  {
   "cell_type": "markdown",
   "id": "quick-spending",
   "metadata": {
    "papermill": {
     "duration": 0.022301,
     "end_time": "2021-04-19T14:28:10.036554",
     "exception": false,
     "start_time": "2021-04-19T14:28:10.014253",
     "status": "completed"
    },
    "tags": []
   },
   "source": [
    "## 7. Training our network\n",
    "\n",
    "<font size=\"3\">Afin de ne pas avoir un overfitting, nous avons choisi un petit nombre d'Epochs. A la fin de chaque Epoch, on affiche l'\"accuracy\" du réseau pour bien se renseigner sur l'évolution des performances.<br>\n",
    "On a tout d'abord décidé d'implémenter une méthode de \"Early stopping\" afin de mieux généraliser, mais les résultats montrent que le réseau généralise bien, même avec des performances supérieures à 99%.</font>\n"
   ]
  },
  {
   "cell_type": "code",
   "execution_count": 7,
   "id": "turkish-clearance",
   "metadata": {
    "execution": {
     "iopub.execute_input": "2021-04-19T14:28:10.093471Z",
     "iopub.status.busy": "2021-04-19T14:28:10.092879Z",
     "iopub.status.idle": "2021-04-19T14:28:14.085992Z",
     "shell.execute_reply": "2021-04-19T14:28:14.085479Z"
    },
    "papermill": {
     "duration": 4.026786,
     "end_time": "2021-04-19T14:28:14.086127",
     "exception": false,
     "start_time": "2021-04-19T14:28:10.059341",
     "status": "completed"
    },
    "tags": []
   },
   "outputs": [
    {
     "name": "stderr",
     "output_type": "stream",
     "text": [
      "  0%|          | 0/124 [00:00<?, ?it/s]"
     ]
    },
    {
     "name": "stdout",
     "output_type": "stream",
     "text": [
      "epoch 0\n"
     ]
    },
    {
     "name": "stderr",
     "output_type": "stream",
     "text": [
      "  0%|          | 0/124 [00:03<?, ?it/s]\n"
     ]
    },
    {
     "ename": "AssertionError",
     "evalue": "Torch not compiled with CUDA enabled",
     "output_type": "error",
     "traceback": [
      "\u001b[0;31m---------------------------------------------------------------------------\u001b[0m",
      "\u001b[0;31mAssertionError\u001b[0m                            Traceback (most recent call last)",
      "\u001b[0;32m<ipython-input-7-f0ec59329973>\u001b[0m in \u001b[0;36m<module>\u001b[0;34m\u001b[0m\n\u001b[1;32m     15\u001b[0m         \u001b[0mi\u001b[0m\u001b[0;34m+=\u001b[0m\u001b[0;36m1\u001b[0m\u001b[0;34m\u001b[0m\u001b[0;34m\u001b[0m\u001b[0m\n\u001b[1;32m     16\u001b[0m         \u001b[0minputs\u001b[0m\u001b[0;34m,\u001b[0m  \u001b[0mtargets\u001b[0m \u001b[0;34m=\u001b[0m \u001b[0mdata\u001b[0m\u001b[0;34m\u001b[0m\u001b[0;34m\u001b[0m\u001b[0m\n\u001b[0;32m---> 17\u001b[0;31m         \u001b[0minputs\u001b[0m\u001b[0;34m,\u001b[0m \u001b[0mtargets\u001b[0m \u001b[0;34m=\u001b[0m \u001b[0minputs\u001b[0m\u001b[0;34m.\u001b[0m\u001b[0mcuda\u001b[0m\u001b[0;34m(\u001b[0m\u001b[0;34m)\u001b[0m\u001b[0;34m,\u001b[0m\u001b[0mtargets\u001b[0m\u001b[0;34m.\u001b[0m\u001b[0mcuda\u001b[0m\u001b[0;34m(\u001b[0m\u001b[0;34m)\u001b[0m\u001b[0;34m\u001b[0m\u001b[0;34m\u001b[0m\u001b[0m\n\u001b[0m\u001b[1;32m     18\u001b[0m         \u001b[0moptimizerCNN\u001b[0m\u001b[0;34m.\u001b[0m\u001b[0mzero_grad\u001b[0m\u001b[0;34m(\u001b[0m\u001b[0;34m)\u001b[0m\u001b[0;34m\u001b[0m\u001b[0;34m\u001b[0m\u001b[0m\n\u001b[1;32m     19\u001b[0m         \u001b[0mmespredictions\u001b[0m \u001b[0;34m=\u001b[0m \u001b[0mmodel\u001b[0m\u001b[0;34m(\u001b[0m\u001b[0minputs\u001b[0m\u001b[0;34m)\u001b[0m\u001b[0;34m\u001b[0m\u001b[0;34m\u001b[0m\u001b[0m\n",
      "\u001b[0;32m/opt/conda/lib/python3.7/site-packages/torch/cuda/__init__.py\u001b[0m in \u001b[0;36m_lazy_init\u001b[0;34m()\u001b[0m\n\u001b[1;32m    164\u001b[0m                 \"Cannot re-initialize CUDA in forked subprocess. \" + msg)\n\u001b[1;32m    165\u001b[0m         \u001b[0;32mif\u001b[0m \u001b[0;32mnot\u001b[0m \u001b[0mhasattr\u001b[0m\u001b[0;34m(\u001b[0m\u001b[0mtorch\u001b[0m\u001b[0;34m.\u001b[0m\u001b[0m_C\u001b[0m\u001b[0;34m,\u001b[0m \u001b[0;34m'_cuda_getDeviceCount'\u001b[0m\u001b[0;34m)\u001b[0m\u001b[0;34m:\u001b[0m\u001b[0;34m\u001b[0m\u001b[0;34m\u001b[0m\u001b[0m\n\u001b[0;32m--> 166\u001b[0;31m             \u001b[0;32mraise\u001b[0m \u001b[0mAssertionError\u001b[0m\u001b[0;34m(\u001b[0m\u001b[0;34m\"Torch not compiled with CUDA enabled\"\u001b[0m\u001b[0;34m)\u001b[0m\u001b[0;34m\u001b[0m\u001b[0;34m\u001b[0m\u001b[0m\n\u001b[0m\u001b[1;32m    167\u001b[0m         \u001b[0;32mif\u001b[0m \u001b[0m_cudart\u001b[0m \u001b[0;32mis\u001b[0m \u001b[0;32mNone\u001b[0m\u001b[0;34m:\u001b[0m\u001b[0;34m\u001b[0m\u001b[0;34m\u001b[0m\u001b[0m\n\u001b[1;32m    168\u001b[0m             raise AssertionError(\n",
      "\u001b[0;31mAssertionError\u001b[0m: Torch not compiled with CUDA enabled"
     ]
    }
   ],
   "source": [
    "import torch.optim as optim\n",
    "from tqdm import tqdm\n",
    "\n",
    "optimizerCNN = optim.AdamW(model.parameters(), lr=0.00009)\n",
    "criterion = nn.CrossEntropyLoss()\n",
    "nbepoch = 5\n",
    "\n",
    "\n",
    "for epoch in range(nbepoch):\n",
    "    train_acc=0\n",
    "    model.train()\n",
    "    print(\"epoch\", epoch)\n",
    "    i=0\n",
    "    for i, data in enumerate(tqdm(train_loader)):\n",
    "        i+=1\n",
    "        inputs,  targets = data\n",
    "        inputs, targets = inputs.cuda(),targets.cuda()\n",
    "        optimizerCNN.zero_grad()\n",
    "        mespredictions = model(inputs)   \n",
    "        loss = criterion(mespredictions,targets)    \n",
    "\n",
    "        loss.backward() \n",
    "        optimizerCNN.step() \n",
    "        \n",
    "        out, inds = torch.max(mespredictions,dim=1)\n",
    "        train_acc += torch.sum(inds == targets)\n",
    "       \n",
    "        \n",
    "        \n",
    "        if random.randint(0,90)==0:\n",
    "            print(\"\\tloss=\",loss) \n",
    "       \n",
    "    final_train_acc = train_acc/(i*batch_size)\n",
    "    \n",
    "    \n",
    "    #EARLY STOPPING (if accurracy at the end of epoch is more than 96%)\n",
    "    \n",
    "    #if(final_train_acc>0.96):\n",
    "        #break\n",
    "        \n",
    "        \n",
    "    print(final_train_acc)"
   ]
  },
  {
   "cell_type": "markdown",
   "id": "cultural-stylus",
   "metadata": {
    "papermill": {
     "duration": 0.025142,
     "end_time": "2021-04-19T14:28:14.135606",
     "exception": false,
     "start_time": "2021-04-19T14:28:14.110464",
     "status": "completed"
    },
    "tags": []
   },
   "source": [
    "## 8. Validation"
   ]
  },
  {
   "cell_type": "markdown",
   "id": "faced-sight",
   "metadata": {
    "papermill": {
     "duration": 0.024236,
     "end_time": "2021-04-19T14:28:14.184318",
     "exception": false,
     "start_time": "2021-04-19T14:28:14.160082",
     "status": "completed"
    },
    "tags": []
   },
   "source": [
    "<font size=\"3\"> on observe la performance de CNN sur l'ensemble de  validation , en obtient en genrale la même accuracy\n",
    "que celle de training. "
   ]
  },
  {
   "cell_type": "code",
   "execution_count": 8,
   "id": "growing-crystal",
   "metadata": {
    "execution": {
     "iopub.execute_input": "2021-04-19T14:28:14.235892Z",
     "iopub.status.busy": "2021-04-19T14:28:14.235341Z",
     "iopub.status.idle": "2021-04-19T14:28:14.238794Z",
     "shell.execute_reply": "2021-04-19T14:28:14.239235Z"
    },
    "papermill": {
     "duration": 0.0309,
     "end_time": "2021-04-19T14:28:14.239383",
     "exception": false,
     "start_time": "2021-04-19T14:28:14.208483",
     "status": "completed"
    },
    "tags": []
   },
   "outputs": [],
   "source": [
    "#from tqdm import tqdm\n",
    "\n",
    "#feat = []\n",
    "#i=0\n",
    "#val_acc=0\n",
    "#for i, data in enumerate(tqdm(validation_loader)):\n",
    "#    i+=1\n",
    "#    img,  targets = data\n",
    "    #print(targets)\n",
    "#    if device.type == 'cuda':\n",
    "#        img, targets = img.cuda(),  targets.cuda()\n",
    "#    with torch.no_grad():\n",
    "#        outputs = model(img)\n",
    "#    out, inds = torch.max(outputs,dim=1)\n",
    "#    val_acc += torch.sum(inds == targets)\n",
    "   \n",
    "#    if device.type == 'cuda':\n",
    "#        feat.append(outputs.cpu().numpy().squeeze())\n",
    "#    else:\n",
    "#        feat.append(outputs.numpy().squeeze())\n",
    "#final_val_acc = val_acc/(i*batch_size)\n",
    "#print(final_train_acc)"
   ]
  },
  {
   "cell_type": "markdown",
   "id": "focal-finding",
   "metadata": {
    "papermill": {
     "duration": 0.024093,
     "end_time": "2021-04-19T14:28:14.287660",
     "exception": false,
     "start_time": "2021-04-19T14:28:14.263567",
     "status": "completed"
    },
    "tags": []
   },
   "source": [
    "## 9. Importation des données audio"
   ]
  },
  {
   "cell_type": "code",
   "execution_count": 9,
   "id": "rapid-university",
   "metadata": {
    "execution": {
     "iopub.execute_input": "2021-04-19T14:28:14.339948Z",
     "iopub.status.busy": "2021-04-19T14:28:14.339058Z",
     "iopub.status.idle": "2021-04-19T14:28:14.856167Z",
     "shell.execute_reply": "2021-04-19T14:28:14.856578Z"
    },
    "papermill": {
     "duration": 0.544839,
     "end_time": "2021-04-19T14:28:14.856772",
     "exception": false,
     "start_time": "2021-04-19T14:28:14.311933",
     "status": "completed"
    },
    "tags": []
   },
   "outputs": [],
   "source": [
    "traindata = pd.read_csv(os.path.join(datadir,'data_train.csv'), delimiter=',', nrows = None)\n",
    "data = np.array(traindata)\n",
    "\n",
    "y_train = data[:,-1].astype('int32')\n",
    "\n",
    "audio_train = data[:, 1:-1]\n",
    "\n",
    "\n",
    "testdata = pd.read_csv(os.path.join(datadir,'data_test_novt.csv'), delimiter=',', nrows = None)\n",
    "data = np.array(testdata)\n",
    "\n",
    "audio_test = np.array(data[:, 1:], dtype='float64')\n",
    "\n"
   ]
  },
  {
   "cell_type": "markdown",
   "id": "promotional-frequency",
   "metadata": {
    "papermill": {
     "duration": 0.0243,
     "end_time": "2021-04-19T14:28:14.905500",
     "exception": false,
     "start_time": "2021-04-19T14:28:14.881200",
     "status": "completed"
    },
    "tags": []
   },
   "source": [
    "## 10. Extracting model output\n",
    "\n",
    "<font size=\"3\">On itère sur notre Train_loader, puis on extrait les prédictions données par le modèle, pour ensuite les concaténer avec les vecteurs audio et créer nos données hybrides.</font>"
   ]
  },
  {
   "cell_type": "code",
   "execution_count": 10,
   "id": "photographic-spray",
   "metadata": {
    "execution": {
     "iopub.execute_input": "2021-04-19T14:28:14.963223Z",
     "iopub.status.busy": "2021-04-19T14:28:14.962341Z",
     "iopub.status.idle": "2021-04-19T15:10:16.902331Z",
     "shell.execute_reply": "2021-04-19T15:10:16.902879Z"
    },
    "papermill": {
     "duration": 2521.973528,
     "end_time": "2021-04-19T15:10:16.903279",
     "exception": false,
     "start_time": "2021-04-19T14:28:14.929751",
     "status": "completed"
    },
    "tags": []
   },
   "outputs": [
    {
     "name": "stderr",
     "output_type": "stream",
     "text": [
      "100%|██████████| 124/124 [42:01<00:00, 20.34s/it]\n"
     ]
    },
    {
     "ename": "NameError",
     "evalue": "name 'final_train_acc' is not defined",
     "output_type": "error",
     "traceback": [
      "\u001b[0;31m---------------------------------------------------------------------------\u001b[0m",
      "\u001b[0;31mNameError\u001b[0m                                 Traceback (most recent call last)",
      "\u001b[0;32m<ipython-input-10-5987296f6fb3>\u001b[0m in \u001b[0;36m<module>\u001b[0;34m\u001b[0m\n\u001b[1;32m     21\u001b[0m         \u001b[0mfeat\u001b[0m\u001b[0;34m.\u001b[0m\u001b[0mappend\u001b[0m\u001b[0;34m(\u001b[0m\u001b[0moutputs\u001b[0m\u001b[0;34m.\u001b[0m\u001b[0mnumpy\u001b[0m\u001b[0;34m(\u001b[0m\u001b[0;34m)\u001b[0m\u001b[0;34m.\u001b[0m\u001b[0msqueeze\u001b[0m\u001b[0;34m(\u001b[0m\u001b[0;34m)\u001b[0m\u001b[0;34m)\u001b[0m\u001b[0;34m\u001b[0m\u001b[0;34m\u001b[0m\u001b[0m\n\u001b[1;32m     22\u001b[0m \u001b[0mfinal_val_acc\u001b[0m \u001b[0;34m=\u001b[0m \u001b[0mval_acc\u001b[0m\u001b[0;34m/\u001b[0m\u001b[0;34m(\u001b[0m\u001b[0mi\u001b[0m\u001b[0;34m*\u001b[0m\u001b[0mbatch_size\u001b[0m\u001b[0;34m)\u001b[0m\u001b[0;34m\u001b[0m\u001b[0;34m\u001b[0m\u001b[0m\n\u001b[0;32m---> 23\u001b[0;31m \u001b[0mprint\u001b[0m\u001b[0;34m(\u001b[0m\u001b[0mfinal_train_acc\u001b[0m\u001b[0;34m)\u001b[0m\u001b[0;34m\u001b[0m\u001b[0;34m\u001b[0m\u001b[0m\n\u001b[0m",
      "\u001b[0;31mNameError\u001b[0m: name 'final_train_acc' is not defined"
     ]
    }
   ],
   "source": [
    "from tqdm import tqdm\n",
    "\n",
    "feat = []\n",
    "i=0\n",
    "val_acc=0\n",
    "model.eval()\n",
    "for i, data in enumerate(tqdm(train_loader)):\n",
    "    i+=1\n",
    "    img, targets = data\n",
    "    #print(targets)\n",
    "    if device.type == 'cuda':\n",
    "        img, targets = img.cuda(), targets.cuda()\n",
    "    with torch.no_grad():\n",
    "        outputs = model(img)\n",
    "    out, inds = torch.max(outputs,dim=1)\n",
    "    val_acc += torch.sum(inds == targets)\n",
    "    \n",
    "    if device.type == 'cuda':\n",
    "        feat.append(outputs.cpu().numpy().squeeze())\n",
    "    else:\n",
    "        feat.append(outputs.numpy().squeeze())\n",
    "final_val_acc = val_acc/(i*batch_size)\n",
    "print(final_train_acc)"
   ]
  },
  {
   "cell_type": "markdown",
   "id": "statewide-export",
   "metadata": {
    "papermill": {
     "duration": 0.054159,
     "end_time": "2021-04-19T15:10:17.012477",
     "exception": false,
     "start_time": "2021-04-19T15:10:16.958318",
     "status": "completed"
    },
    "tags": []
   },
   "source": [
    "## 15. Concaténation des données du training"
   ]
  },
  {
   "cell_type": "code",
   "execution_count": 11,
   "id": "illegal-madness",
   "metadata": {
    "execution": {
     "iopub.execute_input": "2021-04-19T15:10:17.127242Z",
     "iopub.status.busy": "2021-04-19T15:10:17.126554Z",
     "iopub.status.idle": "2021-04-19T15:10:17.132304Z",
     "shell.execute_reply": "2021-04-19T15:10:17.131842Z"
    },
    "papermill": {
     "duration": 0.065605,
     "end_time": "2021-04-19T15:10:17.132429",
     "exception": false,
     "start_time": "2021-04-19T15:10:17.066824",
     "status": "completed"
    },
    "tags": []
   },
   "outputs": [
    {
     "name": "stdout",
     "output_type": "stream",
     "text": [
      "(13802, 9)\n"
     ]
    }
   ],
   "source": [
    "imgfeat = np.concatenate(feat)\n",
    "\n",
    "np.save(os.path.join('/kaggle/working/', 'img_feat'), imgfeat)\n",
    "print(imgfeat.shape)"
   ]
  },
  {
   "cell_type": "markdown",
   "id": "experienced-brake",
   "metadata": {
    "papermill": {
     "duration": 0.053697,
     "end_time": "2021-04-19T15:10:17.240881",
     "exception": false,
     "start_time": "2021-04-19T15:10:17.187184",
     "status": "completed"
    },
    "tags": []
   },
   "source": [
    "## 11. Transformation de l'audio"
   ]
  },
  {
   "cell_type": "code",
   "execution_count": 12,
   "id": "rural-maintenance",
   "metadata": {
    "execution": {
     "iopub.execute_input": "2021-04-19T15:10:17.354148Z",
     "iopub.status.busy": "2021-04-19T15:10:17.353565Z",
     "iopub.status.idle": "2021-04-19T15:10:18.417633Z",
     "shell.execute_reply": "2021-04-19T15:10:18.418179Z"
    },
    "papermill": {
     "duration": 1.123379,
     "end_time": "2021-04-19T15:10:18.418348",
     "exception": false,
     "start_time": "2021-04-19T15:10:17.294969",
     "status": "completed"
    },
    "tags": []
   },
   "outputs": [],
   "source": [
    "from sklearn import preprocessing\n",
    "scaler = preprocessing.StandardScaler().fit(audio_train)\n",
    "\n",
    "audio_train_scaled = scaler.transform(audio_train)\n",
    "audio_test_scaled = scaler.transform(audio_test)"
   ]
  },
  {
   "cell_type": "markdown",
   "id": "narrow-twenty",
   "metadata": {
    "papermill": {
     "duration": 0.053868,
     "end_time": "2021-04-19T15:10:18.527468",
     "exception": false,
     "start_time": "2021-04-19T15:10:18.473600",
     "status": "completed"
    },
    "tags": []
   },
   "source": [
    "## 12. Concaténation de l'audio et des prédictions des images "
   ]
  },
  {
   "cell_type": "code",
   "execution_count": 13,
   "id": "intense-childhood",
   "metadata": {
    "execution": {
     "iopub.execute_input": "2021-04-19T15:10:18.637785Z",
     "iopub.status.busy": "2021-04-19T15:10:18.637218Z",
     "iopub.status.idle": "2021-04-19T15:10:18.646604Z",
     "shell.execute_reply": "2021-04-19T15:10:18.647206Z"
    },
    "papermill": {
     "duration": 0.066021,
     "end_time": "2021-04-19T15:10:18.647361",
     "exception": false,
     "start_time": "2021-04-19T15:10:18.581340",
     "status": "completed"
    },
    "tags": []
   },
   "outputs": [
    {
     "name": "stdout",
     "output_type": "stream",
     "text": [
      "(13802, 113)\n"
     ]
    }
   ],
   "source": [
    "train_hh = np.concatenate((imgfeat,audio_train_scaled),axis=1)\n",
    "print(train_hh.shape)"
   ]
  },
  {
   "cell_type": "markdown",
   "id": "quality-cancellation",
   "metadata": {
    "papermill": {
     "duration": 0.053497,
     "end_time": "2021-04-19T15:10:18.755253",
     "exception": false,
     "start_time": "2021-04-19T15:10:18.701756",
     "status": "completed"
    },
    "tags": []
   },
   "source": [
    "## 13. SVM appliqué sur audio-image data \n"
   ]
  },
  {
   "cell_type": "markdown",
   "id": "anticipated-resource",
   "metadata": {
    "papermill": {
     "duration": 0.05437,
     "end_time": "2021-04-19T15:10:18.863665",
     "exception": false,
     "start_time": "2021-04-19T15:10:18.809295",
     "status": "completed"
    },
    "tags": []
   },
   "source": [
    "<font size=\"3\"> on a mis le code qui divise notre data en training et validation en commentaire pour les même raison qu'avant"
   ]
  },
  {
   "cell_type": "code",
   "execution_count": 14,
   "id": "statutory-conflict",
   "metadata": {
    "execution": {
     "iopub.execute_input": "2021-04-19T15:10:18.979200Z",
     "iopub.status.busy": "2021-04-19T15:10:18.978598Z",
     "iopub.status.idle": "2021-04-19T15:10:40.763426Z",
     "shell.execute_reply": "2021-04-19T15:10:40.762916Z"
    },
    "papermill": {
     "duration": 21.841665,
     "end_time": "2021-04-19T15:10:40.763568",
     "exception": false,
     "start_time": "2021-04-19T15:10:18.921903",
     "status": "completed"
    },
    "tags": []
   },
   "outputs": [
    {
     "name": "stdout",
     "output_type": "stream",
     "text": [
      "[LibSVM]Taux de reco train=  99.96%\n"
     ]
    }
   ],
   "source": [
    "import numpy as np\n",
    "import matplotlib.pyplot as plt\n",
    "import random\n",
    "\n",
    "# Pour séparer les données en apprentissage et test\n",
    "from sklearn.model_selection import train_test_split\n",
    "\n",
    "#Xn, Xv, yn, yv = train_test_split(train_hh, y_train, random_state=42,test_size=0.1)\n",
    "\n",
    "from sklearn import svm\n",
    "\n",
    "\n",
    "svc = svm.SVC(kernel='rbf', max_iter=-1, verbose = True,gamma='scale',\n",
    "             tol=1e-4,C=10.4,decision_function_shape='ovr')\n",
    "svc.fit(train_hh, y_train)\n",
    "\n",
    "score_train = svc.score(train_hh, y_train)\n",
    "#score_test = svc.score(Xv, yv)\n",
    "#print(c)\n",
    "print(\"Taux de reco train=  {:.2f}%\".format(score_train*100))\n",
    "#print(\"Taux de reco =  {:.2f}%/{:.2f}% \".format(score_train*100,score_train*100))"
   ]
  },
  {
   "cell_type": "markdown",
   "id": "thirty-airport",
   "metadata": {
    "papermill": {
     "duration": 0.055393,
     "end_time": "2021-04-19T15:10:40.873774",
     "exception": false,
     "start_time": "2021-04-19T15:10:40.818381",
     "status": "completed"
    },
    "tags": []
   },
   "source": [
    "## 14. Extracting model output\n",
    "\n",
    "<font size=\"3\">On itère sur notre Test_loader, puis on extrait les prédictions données par le modèle, pour ensuite les concaténer avec les vecteurs audio et créer nos données hybrides.</font>"
   ]
  },
  {
   "cell_type": "code",
   "execution_count": 15,
   "id": "corresponding-diameter",
   "metadata": {
    "execution": {
     "iopub.execute_input": "2021-04-19T15:10:40.991763Z",
     "iopub.status.busy": "2021-04-19T15:10:40.991194Z",
     "iopub.status.idle": "2021-04-19T15:21:28.110816Z",
     "shell.execute_reply": "2021-04-19T15:21:28.110303Z"
    },
    "papermill": {
     "duration": 647.182116,
     "end_time": "2021-04-19T15:21:28.110983",
     "exception": false,
     "start_time": "2021-04-19T15:10:40.928867",
     "status": "completed"
    },
    "tags": []
   },
   "outputs": [
    {
     "name": "stderr",
     "output_type": "stream",
     "text": [
      "100%|██████████| 31/31 [10:47<00:00, 20.87s/it]\n"
     ]
    }
   ],
   "source": [
    "from tqdm import tqdm\n",
    "\n",
    "feat_test = []\n",
    "model.eval()\n",
    "for i, data in enumerate(tqdm(test_loader)):\n",
    "\n",
    "    img = data\n",
    "    #print(targets)\n",
    "    if device.type == 'cuda':\n",
    "        img = img.cuda()\n",
    "    with torch.no_grad():\n",
    "        outputs = model(img)\n",
    "   \n",
    "   \n",
    "    \n",
    "    if device.type == 'cuda':\n",
    "        feat_test.append(outputs.cpu())\n",
    "    else:\n",
    "        feat_test.append(outputs.numpy().squeeze())"
   ]
  },
  {
   "cell_type": "markdown",
   "id": "qualified-command",
   "metadata": {
    "papermill": {
     "duration": 0.062929,
     "end_time": "2021-04-19T15:21:28.236944",
     "exception": false,
     "start_time": "2021-04-19T15:21:28.174015",
     "status": "completed"
    },
    "tags": []
   },
   "source": [
    "## 15. Concaténation audio-image Test"
   ]
  },
  {
   "cell_type": "code",
   "execution_count": 16,
   "id": "distant-amber",
   "metadata": {
    "execution": {
     "iopub.execute_input": "2021-04-19T15:21:28.516073Z",
     "iopub.status.busy": "2021-04-19T15:21:28.515486Z",
     "iopub.status.idle": "2021-04-19T15:21:28.521248Z",
     "shell.execute_reply": "2021-04-19T15:21:28.520586Z"
    },
    "papermill": {
     "duration": 0.221246,
     "end_time": "2021-04-19T15:21:28.521390",
     "exception": false,
     "start_time": "2021-04-19T15:21:28.300144",
     "status": "completed"
    },
    "tags": []
   },
   "outputs": [
    {
     "name": "stdout",
     "output_type": "stream",
     "text": [
      "(3450, 113)\n"
     ]
    }
   ],
   "source": [
    "imgfeat_test = np.concatenate(feat_test)\n",
    "test_hh=np.concatenate((imgfeat_test,audio_test_scaled),axis=1)\n",
    "\n",
    "print(test_hh.shape)"
   ]
  },
  {
   "cell_type": "markdown",
   "id": "renewable-relevance",
   "metadata": {
    "papermill": {
     "duration": 0.065228,
     "end_time": "2021-04-19T15:21:28.652298",
     "exception": false,
     "start_time": "2021-04-19T15:21:28.587070",
     "status": "completed"
    },
    "tags": []
   },
   "source": [
    "## 16. Prédiction finale du SVM"
   ]
  },
  {
   "cell_type": "code",
   "execution_count": 17,
   "id": "better-executive",
   "metadata": {
    "execution": {
     "iopub.execute_input": "2021-04-19T15:21:28.787279Z",
     "iopub.status.busy": "2021-04-19T15:21:28.786635Z",
     "iopub.status.idle": "2021-04-19T15:21:32.129259Z",
     "shell.execute_reply": "2021-04-19T15:21:32.128818Z"
    },
    "papermill": {
     "duration": 3.412108,
     "end_time": "2021-04-19T15:21:32.129392",
     "exception": false,
     "start_time": "2021-04-19T15:21:28.717284",
     "status": "completed"
    },
    "tags": []
   },
   "outputs": [
    {
     "name": "stdout",
     "output_type": "stream",
     "text": [
      "(3450,)\n"
     ]
    }
   ],
   "source": [
    "y_pred = svc.predict(test_hh)\n",
    "print(y_pred.shape)"
   ]
  },
  {
   "cell_type": "markdown",
   "id": "spoken-daisy",
   "metadata": {
    "papermill": {
     "duration": 0.063314,
     "end_time": "2021-04-19T15:21:32.256861",
     "exception": false,
     "start_time": "2021-04-19T15:21:32.193547",
     "status": "completed"
    },
    "tags": []
   },
   "source": [
    "## 17. Création du fichier de soumission"
   ]
  },
  {
   "cell_type": "code",
   "execution_count": 18,
   "id": "possible-scheme",
   "metadata": {
    "execution": {
     "iopub.execute_input": "2021-04-19T15:21:32.397761Z",
     "iopub.status.busy": "2021-04-19T15:21:32.395257Z",
     "iopub.status.idle": "2021-04-19T15:21:32.407886Z",
     "shell.execute_reply": "2021-04-19T15:21:32.407312Z"
    },
    "papermill": {
     "duration": 0.087573,
     "end_time": "2021-04-19T15:21:32.408015",
     "exception": false,
     "start_time": "2021-04-19T15:21:32.320442",
     "status": "completed"
    },
    "tags": []
   },
   "outputs": [],
   "source": [
    "\n",
    "submission = pd.DataFrame({'CLASS':y_pred})\n",
    "submission=submission.reset_index()\n",
    "submission = submission.rename(columns={'index': 'Id'})\n",
    "submission.to_csv('My_submission.csv', index=False)"
   ]
  },
  {
   "cell_type": "code",
   "execution_count": null,
   "id": "hazardous-algeria",
   "metadata": {
    "papermill": {
     "duration": 0.063365,
     "end_time": "2021-04-19T15:21:32.535016",
     "exception": false,
     "start_time": "2021-04-19T15:21:32.471651",
     "status": "completed"
    },
    "tags": []
   },
   "outputs": [],
   "source": []
  }
 ],
 "metadata": {
  "kernelspec": {
   "display_name": "Python 3",
   "language": "python",
   "name": "python3"
  },
  "language_info": {
   "codemirror_mode": {
    "name": "ipython",
    "version": 3
   },
   "file_extension": ".py",
   "mimetype": "text/x-python",
   "name": "python",
   "nbconvert_exporter": "python",
   "pygments_lexer": "ipython3",
   "version": "3.7.9"
  },
  "papermill": {
   "default_parameters": {},
   "duration": 3223.381732,
   "end_time": "2021-04-19T15:21:33.610052",
   "environment_variables": {},
   "exception": null,
   "input_path": "__notebook__.ipynb",
   "output_path": "__notebook__.ipynb",
   "parameters": {},
   "start_time": "2021-04-19T14:27:50.228320",
   "version": "2.3.2"
  },
  "widgets": {
   "application/vnd.jupyter.widget-state+json": {
    "state": {
     "1abf8f6cc8c84023a62eee25afc95dc1": {
      "model_module": "@jupyter-widgets/controls",
      "model_module_version": "1.5.0",
      "model_name": "HTMLModel",
      "state": {
       "_dom_classes": [],
       "_model_module": "@jupyter-widgets/controls",
       "_model_module_version": "1.5.0",
       "_model_name": "HTMLModel",
       "_view_count": null,
       "_view_module": "@jupyter-widgets/controls",
       "_view_module_version": "1.5.0",
       "_view_name": "HTMLView",
       "description": "",
       "description_tooltip": null,
       "layout": "IPY_MODEL_3b34856d6dd0440083aba642c1dc609d",
       "placeholder": "​",
       "style": "IPY_MODEL_d3b8e0d98be44b8d872e60a870423f4b",
       "value": " 95.8M/95.8M [00:09&lt;00:00, 12.6MB/s]"
      }
     },
     "3b34856d6dd0440083aba642c1dc609d": {
      "model_module": "@jupyter-widgets/base",
      "model_module_version": "1.2.0",
      "model_name": "LayoutModel",
      "state": {
       "_model_module": "@jupyter-widgets/base",
       "_model_module_version": "1.2.0",
       "_model_name": "LayoutModel",
       "_view_count": null,
       "_view_module": "@jupyter-widgets/base",
       "_view_module_version": "1.2.0",
       "_view_name": "LayoutView",
       "align_content": null,
       "align_items": null,
       "align_self": null,
       "border": null,
       "bottom": null,
       "display": null,
       "flex": null,
       "flex_flow": null,
       "grid_area": null,
       "grid_auto_columns": null,
       "grid_auto_flow": null,
       "grid_auto_rows": null,
       "grid_column": null,
       "grid_gap": null,
       "grid_row": null,
       "grid_template_areas": null,
       "grid_template_columns": null,
       "grid_template_rows": null,
       "height": null,
       "justify_content": null,
       "justify_items": null,
       "left": null,
       "margin": null,
       "max_height": null,
       "max_width": null,
       "min_height": null,
       "min_width": null,
       "object_fit": null,
       "object_position": null,
       "order": null,
       "overflow": null,
       "overflow_x": null,
       "overflow_y": null,
       "padding": null,
       "right": null,
       "top": null,
       "visibility": null,
       "width": null
      }
     },
     "4016475568bb473e9763789a5f7fb553": {
      "model_module": "@jupyter-widgets/controls",
      "model_module_version": "1.5.0",
      "model_name": "ProgressStyleModel",
      "state": {
       "_model_module": "@jupyter-widgets/controls",
       "_model_module_version": "1.5.0",
       "_model_name": "ProgressStyleModel",
       "_view_count": null,
       "_view_module": "@jupyter-widgets/base",
       "_view_module_version": "1.2.0",
       "_view_name": "StyleView",
       "bar_color": null,
       "description_width": ""
      }
     },
     "528450ce395b4472991f38a38de88865": {
      "model_module": "@jupyter-widgets/base",
      "model_module_version": "1.2.0",
      "model_name": "LayoutModel",
      "state": {
       "_model_module": "@jupyter-widgets/base",
       "_model_module_version": "1.2.0",
       "_model_name": "LayoutModel",
       "_view_count": null,
       "_view_module": "@jupyter-widgets/base",
       "_view_module_version": "1.2.0",
       "_view_name": "LayoutView",
       "align_content": null,
       "align_items": null,
       "align_self": null,
       "border": null,
       "bottom": null,
       "display": null,
       "flex": null,
       "flex_flow": null,
       "grid_area": null,
       "grid_auto_columns": null,
       "grid_auto_flow": null,
       "grid_auto_rows": null,
       "grid_column": null,
       "grid_gap": null,
       "grid_row": null,
       "grid_template_areas": null,
       "grid_template_columns": null,
       "grid_template_rows": null,
       "height": null,
       "justify_content": null,
       "justify_items": null,
       "left": null,
       "margin": null,
       "max_height": null,
       "max_width": null,
       "min_height": null,
       "min_width": null,
       "object_fit": null,
       "object_position": null,
       "order": null,
       "overflow": null,
       "overflow_x": null,
       "overflow_y": null,
       "padding": null,
       "right": null,
       "top": null,
       "visibility": null,
       "width": null
      }
     },
     "8c8b870ed6f046948fd1b741c16a788b": {
      "model_module": "@jupyter-widgets/controls",
      "model_module_version": "1.5.0",
      "model_name": "FloatProgressModel",
      "state": {
       "_dom_classes": [],
       "_model_module": "@jupyter-widgets/controls",
       "_model_module_version": "1.5.0",
       "_model_name": "FloatProgressModel",
       "_view_count": null,
       "_view_module": "@jupyter-widgets/controls",
       "_view_module_version": "1.5.0",
       "_view_name": "ProgressView",
       "bar_style": "success",
       "description": "",
       "description_tooltip": null,
       "layout": "IPY_MODEL_dc23b60ca28149d08d0cc64a0efd2846",
       "max": 100441675.0,
       "min": 0.0,
       "orientation": "horizontal",
       "style": "IPY_MODEL_4016475568bb473e9763789a5f7fb553",
       "value": 100441675.0
      }
     },
     "8d34b87e0b9c46849a23750fc82af176": {
      "model_module": "@jupyter-widgets/controls",
      "model_module_version": "1.5.0",
      "model_name": "HBoxModel",
      "state": {
       "_dom_classes": [],
       "_model_module": "@jupyter-widgets/controls",
       "_model_module_version": "1.5.0",
       "_model_name": "HBoxModel",
       "_view_count": null,
       "_view_module": "@jupyter-widgets/controls",
       "_view_module_version": "1.5.0",
       "_view_name": "HBoxView",
       "box_style": "",
       "children": [
        "IPY_MODEL_8f04ff4211df4b59ab77e64cbdc46062",
        "IPY_MODEL_8c8b870ed6f046948fd1b741c16a788b",
        "IPY_MODEL_1abf8f6cc8c84023a62eee25afc95dc1"
       ],
       "layout": "IPY_MODEL_c9bc2f869acd4d3c971389d88037e81b"
      }
     },
     "8f04ff4211df4b59ab77e64cbdc46062": {
      "model_module": "@jupyter-widgets/controls",
      "model_module_version": "1.5.0",
      "model_name": "HTMLModel",
      "state": {
       "_dom_classes": [],
       "_model_module": "@jupyter-widgets/controls",
       "_model_module_version": "1.5.0",
       "_model_name": "HTMLModel",
       "_view_count": null,
       "_view_module": "@jupyter-widgets/controls",
       "_view_module_version": "1.5.0",
       "_view_name": "HTMLView",
       "description": "",
       "description_tooltip": null,
       "layout": "IPY_MODEL_528450ce395b4472991f38a38de88865",
       "placeholder": "​",
       "style": "IPY_MODEL_b26b840526264e5f90b7aa1307281152",
       "value": "100%"
      }
     },
     "b26b840526264e5f90b7aa1307281152": {
      "model_module": "@jupyter-widgets/controls",
      "model_module_version": "1.5.0",
      "model_name": "DescriptionStyleModel",
      "state": {
       "_model_module": "@jupyter-widgets/controls",
       "_model_module_version": "1.5.0",
       "_model_name": "DescriptionStyleModel",
       "_view_count": null,
       "_view_module": "@jupyter-widgets/base",
       "_view_module_version": "1.2.0",
       "_view_name": "StyleView",
       "description_width": ""
      }
     },
     "c9bc2f869acd4d3c971389d88037e81b": {
      "model_module": "@jupyter-widgets/base",
      "model_module_version": "1.2.0",
      "model_name": "LayoutModel",
      "state": {
       "_model_module": "@jupyter-widgets/base",
       "_model_module_version": "1.2.0",
       "_model_name": "LayoutModel",
       "_view_count": null,
       "_view_module": "@jupyter-widgets/base",
       "_view_module_version": "1.2.0",
       "_view_name": "LayoutView",
       "align_content": null,
       "align_items": null,
       "align_self": null,
       "border": null,
       "bottom": null,
       "display": null,
       "flex": null,
       "flex_flow": null,
       "grid_area": null,
       "grid_auto_columns": null,
       "grid_auto_flow": null,
       "grid_auto_rows": null,
       "grid_column": null,
       "grid_gap": null,
       "grid_row": null,
       "grid_template_areas": null,
       "grid_template_columns": null,
       "grid_template_rows": null,
       "height": null,
       "justify_content": null,
       "justify_items": null,
       "left": null,
       "margin": null,
       "max_height": null,
       "max_width": null,
       "min_height": null,
       "min_width": null,
       "object_fit": null,
       "object_position": null,
       "order": null,
       "overflow": null,
       "overflow_x": null,
       "overflow_y": null,
       "padding": null,
       "right": null,
       "top": null,
       "visibility": null,
       "width": null
      }
     },
     "d3b8e0d98be44b8d872e60a870423f4b": {
      "model_module": "@jupyter-widgets/controls",
      "model_module_version": "1.5.0",
      "model_name": "DescriptionStyleModel",
      "state": {
       "_model_module": "@jupyter-widgets/controls",
       "_model_module_version": "1.5.0",
       "_model_name": "DescriptionStyleModel",
       "_view_count": null,
       "_view_module": "@jupyter-widgets/base",
       "_view_module_version": "1.2.0",
       "_view_name": "StyleView",
       "description_width": ""
      }
     },
     "dc23b60ca28149d08d0cc64a0efd2846": {
      "model_module": "@jupyter-widgets/base",
      "model_module_version": "1.2.0",
      "model_name": "LayoutModel",
      "state": {
       "_model_module": "@jupyter-widgets/base",
       "_model_module_version": "1.2.0",
       "_model_name": "LayoutModel",
       "_view_count": null,
       "_view_module": "@jupyter-widgets/base",
       "_view_module_version": "1.2.0",
       "_view_name": "LayoutView",
       "align_content": null,
       "align_items": null,
       "align_self": null,
       "border": null,
       "bottom": null,
       "display": null,
       "flex": null,
       "flex_flow": null,
       "grid_area": null,
       "grid_auto_columns": null,
       "grid_auto_flow": null,
       "grid_auto_rows": null,
       "grid_column": null,
       "grid_gap": null,
       "grid_row": null,
       "grid_template_areas": null,
       "grid_template_columns": null,
       "grid_template_rows": null,
       "height": null,
       "justify_content": null,
       "justify_items": null,
       "left": null,
       "margin": null,
       "max_height": null,
       "max_width": null,
       "min_height": null,
       "min_width": null,
       "object_fit": null,
       "object_position": null,
       "order": null,
       "overflow": null,
       "overflow_x": null,
       "overflow_y": null,
       "padding": null,
       "right": null,
       "top": null,
       "visibility": null,
       "width": null
      }
     }
    },
    "version_major": 2,
    "version_minor": 0
   }
  }
 },
 "nbformat": 4,
 "nbformat_minor": 5
}
